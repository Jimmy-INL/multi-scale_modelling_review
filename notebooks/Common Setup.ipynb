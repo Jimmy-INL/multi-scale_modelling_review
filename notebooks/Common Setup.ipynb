{
 "cells": [
  {
   "cell_type": "code",
   "execution_count": 1,
   "metadata": {},
   "outputs": [],
   "source": [
    "%reload_ext autoreload\n",
    "%autoreload 2"
   ]
  },
  {
   "cell_type": "code",
   "execution_count": 2,
   "metadata": {},
   "outputs": [
    {
     "name": "stderr",
     "output_type": "stream",
     "text": [
      "C:\\Users\\douglasd\\AppData\\Local\\Continuum\\miniconda3\\envs\\biblio\\lib\\site-packages\\fuzzywuzzy-0.17.0-py3.6.egg\\fuzzywuzzy\\fuzz.py:11: UserWarning: Using slow pure-python SequenceMatcher. Install python-Levenshtein to remove this warning\n",
      "  warnings.warn('Using slow pure-python SequenceMatcher. Install python-Levenshtein to remove this warning')\n"
     ]
    }
   ],
   "source": [
    "import wosis\n",
    "import wosis.analysis.plotting as wos_plot\n",
    "import metaknowledge as mk\n",
    "import networkx as nx\n",
    "\n",
    "import numpy as np\n",
    "import pandas as pd\n",
    "import json\n",
    "\n",
    "import matplotlib.pyplot as plt\n",
    "import seaborn as sns\n",
    "\n",
    "from datetime import datetime\n",
    "\n",
    "# Make plots look better\n",
    "sns.set_style('darkgrid')\n",
    "sns.set_context('paper', font_scale=2.0)\n",
    "plt.tight_layout();"
   ]
  },
  {
   "cell_type": "code",
   "execution_count": 3,
   "metadata": {},
   "outputs": [],
   "source": [
    "# Some fields are proprietary; owned by Clarivate Analytics. These have to be hidden.\n",
    "hide_columns = ['DE', 'abstract', 'keywords', 'DOI', 'id', 'kws']"
   ]
  },
  {
   "cell_type": "code",
   "execution_count": 4,
   "metadata": {},
   "outputs": [],
   "source": [
    "def make_safe_display(df):\n",
    "    \"\"\"Create a truncated dataframe with IP-related data removed.\n",
    "    \"\"\"\n",
    "    return df.loc[:, ~(df.columns.isin(hide_columns))]"
   ]
  },
  {
   "cell_type": "code",
   "execution_count": 10,
   "metadata": {},
   "outputs": [],
   "source": [
    "TODAY = datetime.today().strftime('%Y-%m-%d')"
   ]
  },
  {
   "cell_type": "code",
   "execution_count": 11,
   "metadata": {},
   "outputs": [],
   "source": [
    "CONFIG_FILE = \"../config/config.yml\"  # Point to configuration file\n",
    "DATA_DIR = '../data/'  # data that can be shared is stored here\n",
    "FIG_DIR = '../figs/'  # directory to place generated figures\n",
    "CACHE_DIR = '../cache/' #directory for cached data - data that cannot be shared is stored here"
   ]
  },
  {
   "cell_type": "code",
   "execution_count": 12,
   "metadata": {},
   "outputs": [],
   "source": [
    "WOS_CONFIG = wosis.load_config(CONFIG_FILE)"
   ]
  },
  {
   "cell_type": "code",
   "execution_count": null,
   "metadata": {},
   "outputs": [],
   "source": []
  }
 ],
 "metadata": {
  "kernelspec": {
   "display_name": "holistic-iem",
   "language": "python",
   "name": "holistic-iem"
  },
  "language_info": {
   "codemirror_mode": {
    "name": "ipython",
    "version": 3
   },
   "file_extension": ".py",
   "mimetype": "text/x-python",
   "name": "python",
   "nbconvert_exporter": "python",
   "pygments_lexer": "ipython3",
   "version": "3.6.6"
  }
 },
 "nbformat": 4,
 "nbformat_minor": 2
}
